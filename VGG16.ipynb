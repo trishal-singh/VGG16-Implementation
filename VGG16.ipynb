{
  "nbformat": 4,
  "nbformat_minor": 0,
  "metadata": {
    "colab": {
      "name": "VGG16.ipynb",
      "provenance": []
    },
    "kernelspec": {
      "name": "python3",
      "display_name": "Python 3"
    },
    "accelerator": "GPU"
  },
  "cells": [
    {
      "cell_type": "code",
      "metadata": {
        "id": "-PkciBTmsRQV"
      },
      "source": [
        "from keras.datasets import cifar10\n",
        "import tensorflow as tf\n",
        "(train_x, train_y), (test_x, test_y) = cifar10.load_data()\n",
        "train_x = train_x.astype('float32')\n",
        "test_x = test_x.astype('float32')\n",
        "train_x=train_x/255.0\n",
        "test_=test_x/255.0\n",
        "train_y=tf.keras.utils.to_categorical(train_y)\n",
        "test_y=tf.keras.utils.to_categorical(test_y)"
      ],
      "execution_count": 50,
      "outputs": []
    },
    {
      "cell_type": "markdown",
      "metadata": {
        "id": "b-w8CGSWxN5n"
      },
      "source": [
        "\n"
      ]
    },
    {
      "cell_type": "code",
      "metadata": {
        "id": "NB5Qvy9-tnDd"
      },
      "source": [
        "import keras,os\n",
        "from keras.models import Sequential\n",
        "\n",
        "from keras.layers import Conv2D\n",
        "\n",
        "\n",
        "from keras.layers import MaxPool2D\n",
        "\n",
        "\n",
        "\n",
        "from keras.layers import Flatten\n",
        "\n",
        "\n",
        "from keras.layers import Dense\n",
        "import numpy as np"
      ],
      "execution_count": 51,
      "outputs": []
    },
    {
      "cell_type": "code",
      "metadata": {
        "colab": {
          "base_uri": "https://localhost:8080/"
        },
        "id": "0PQ4pES9uKiX",
        "outputId": "a3981d52-75c3-47c8-a6e3-47d8740676b3"
      },
      "source": [
        "train_x.shape"
      ],
      "execution_count": 52,
      "outputs": [
        {
          "output_type": "execute_result",
          "data": {
            "text/plain": [
              "(50000, 32, 32, 3)"
            ]
          },
          "metadata": {
            "tags": []
          },
          "execution_count": 52
        }
      ]
    },
    {
      "cell_type": "code",
      "metadata": {
        "colab": {
          "base_uri": "https://localhost:8080/"
        },
        "id": "cNoH-nrZuw4Q",
        "outputId": "81230783-36bf-446a-d637-f53d3b3dd7fb"
      },
      "source": [
        "model = Sequential()\n",
        "model.add(Conv2D(input_shape=(32,32,3),filters=64,kernel_size=(3,3),padding=\"same\", activation=\"relu\"))\n",
        "model.add(Conv2D(filters=64,kernel_size=(3,3),padding=\"same\", activation=\"relu\"))\n",
        "model.add(MaxPool2D(pool_size=(2,2),strides=(2,2)))\n",
        "\n",
        "model.add(Conv2D(filters=128, kernel_size=(3,3), padding=\"same\", activation=\"relu\"))\n",
        "model.add(Conv2D(filters=128, kernel_size=(3,3), padding=\"same\", activation=\"relu\"))\n",
        "model.add(MaxPool2D(pool_size=(2,2),strides=(2,2)))\n",
        "\n",
        "\n",
        "model.add(Conv2D(filters=256, kernel_size=(3,3), padding=\"same\", activation=\"relu\"))\n",
        "model.add(Conv2D(filters=256, kernel_size=(3,3), padding=\"same\", activation=\"relu\"))\n",
        "model.add(Conv2D(filters=256, kernel_size=(3,3), padding=\"same\", activation=\"relu\"))\n",
        "model.add(MaxPool2D(pool_size=(2,2),strides=(2,2)))\n",
        "\n",
        "\n",
        "\n",
        "model.add(Conv2D(filters=512, kernel_size=(3,3), padding=\"same\", activation=\"relu\"))\n",
        "model.add(Conv2D(filters=512, kernel_size=(3,3), padding=\"same\", activation=\"relu\"))\n",
        "model.add(Conv2D(filters=512, kernel_size=(3,3), padding=\"same\", activation=\"relu\"))\n",
        "model.add(MaxPool2D(pool_size=(2,2),strides=(2,2)))\n",
        "\n",
        "\n",
        "\n",
        "\n",
        "model.add(Conv2D(filters=512, kernel_size=(3,3), padding=\"same\", activation=\"relu\"))\n",
        "model.add(Conv2D(filters=512, kernel_size=(3,3), padding=\"same\", activation=\"relu\"))\n",
        "model.add(Conv2D(filters=512, kernel_size=(3,3), padding=\"same\", activation=\"relu\"))\n",
        "model.add(MaxPool2D(pool_size=(2,2),strides=(2,2)))\n",
        "\n",
        "model.add(Flatten())\n",
        "\n",
        "\n",
        "model.add(Dense(units=256,activation=\"relu\"))\n",
        "model.add(Dense(units=256,activation=\"relu\"))\n",
        "model.add(Dense(units=10, activation=\"softmax\"))\n",
        "\n",
        "\n",
        "model.compile(optimizer='sgd', loss=keras.losses.categorical_crossentropy, metrics=['accuracy'])\n",
        "\n",
        "model.summary()"
      ],
      "execution_count": 56,
      "outputs": [
        {
          "output_type": "stream",
          "text": [
            "Model: \"sequential_8\"\n",
            "_________________________________________________________________\n",
            "Layer (type)                 Output Shape              Param #   \n",
            "=================================================================\n",
            "conv2d_104 (Conv2D)          (None, 32, 32, 64)        1792      \n",
            "_________________________________________________________________\n",
            "conv2d_105 (Conv2D)          (None, 32, 32, 64)        36928     \n",
            "_________________________________________________________________\n",
            "max_pooling2d_40 (MaxPooling (None, 16, 16, 64)        0         \n",
            "_________________________________________________________________\n",
            "conv2d_106 (Conv2D)          (None, 16, 16, 128)       73856     \n",
            "_________________________________________________________________\n",
            "conv2d_107 (Conv2D)          (None, 16, 16, 128)       147584    \n",
            "_________________________________________________________________\n",
            "max_pooling2d_41 (MaxPooling (None, 8, 8, 128)         0         \n",
            "_________________________________________________________________\n",
            "conv2d_108 (Conv2D)          (None, 8, 8, 256)         295168    \n",
            "_________________________________________________________________\n",
            "conv2d_109 (Conv2D)          (None, 8, 8, 256)         590080    \n",
            "_________________________________________________________________\n",
            "conv2d_110 (Conv2D)          (None, 8, 8, 256)         590080    \n",
            "_________________________________________________________________\n",
            "max_pooling2d_42 (MaxPooling (None, 4, 4, 256)         0         \n",
            "_________________________________________________________________\n",
            "conv2d_111 (Conv2D)          (None, 4, 4, 512)         1180160   \n",
            "_________________________________________________________________\n",
            "conv2d_112 (Conv2D)          (None, 4, 4, 512)         2359808   \n",
            "_________________________________________________________________\n",
            "conv2d_113 (Conv2D)          (None, 4, 4, 512)         2359808   \n",
            "_________________________________________________________________\n",
            "max_pooling2d_43 (MaxPooling (None, 2, 2, 512)         0         \n",
            "_________________________________________________________________\n",
            "conv2d_114 (Conv2D)          (None, 2, 2, 512)         2359808   \n",
            "_________________________________________________________________\n",
            "conv2d_115 (Conv2D)          (None, 2, 2, 512)         2359808   \n",
            "_________________________________________________________________\n",
            "conv2d_116 (Conv2D)          (None, 2, 2, 512)         2359808   \n",
            "_________________________________________________________________\n",
            "max_pooling2d_44 (MaxPooling (None, 1, 1, 512)         0         \n",
            "_________________________________________________________________\n",
            "flatten_7 (Flatten)          (None, 512)               0         \n",
            "_________________________________________________________________\n",
            "dense_24 (Dense)             (None, 256)               131328    \n",
            "_________________________________________________________________\n",
            "dense_25 (Dense)             (None, 256)               65792     \n",
            "_________________________________________________________________\n",
            "dense_26 (Dense)             (None, 10)                2570      \n",
            "=================================================================\n",
            "Total params: 14,914,378\n",
            "Trainable params: 14,914,378\n",
            "Non-trainable params: 0\n",
            "_________________________________________________________________\n"
          ],
          "name": "stdout"
        }
      ]
    },
    {
      "cell_type": "code",
      "metadata": {
        "id": "IDB8L4XEvck8",
        "outputId": "4d5d38c7-4bfb-4c8f-ef75-da30c8292ba5",
        "colab": {
          "base_uri": "https://localhost:8080/"
        }
      },
      "source": [
        "model.fit(x=train_x,y=train_y,epochs=100,batch_size=64)"
      ],
      "execution_count": 57,
      "outputs": [
        {
          "output_type": "stream",
          "text": [
            "Epoch 1/100\n",
            "782/782 [==============================] - 28s 35ms/step - loss: 2.3026 - accuracy: 0.0986\n",
            "Epoch 2/100\n",
            "782/782 [==============================] - 28s 35ms/step - loss: 2.3022 - accuracy: 0.1115\n",
            "Epoch 3/100\n",
            "782/782 [==============================] - 27s 35ms/step - loss: 2.3013 - accuracy: 0.1275\n",
            "Epoch 4/100\n",
            "782/782 [==============================] - 27s 35ms/step - loss: 2.2918 - accuracy: 0.1737\n",
            "Epoch 5/100\n",
            "782/782 [==============================] - 27s 35ms/step - loss: 2.1425 - accuracy: 0.1957\n",
            "Epoch 6/100\n",
            "782/782 [==============================] - 27s 35ms/step - loss: 2.0139 - accuracy: 0.2573\n",
            "Epoch 7/100\n",
            "782/782 [==============================] - 27s 35ms/step - loss: 1.9558 - accuracy: 0.2799\n",
            "Epoch 8/100\n",
            "782/782 [==============================] - 27s 35ms/step - loss: 1.8848 - accuracy: 0.3053\n",
            "Epoch 9/100\n",
            "782/782 [==============================] - 27s 35ms/step - loss: 1.7901 - accuracy: 0.3386\n",
            "Epoch 10/100\n",
            "782/782 [==============================] - 27s 35ms/step - loss: 1.6809 - accuracy: 0.3829\n",
            "Epoch 11/100\n",
            "782/782 [==============================] - 27s 35ms/step - loss: 1.6039 - accuracy: 0.4116\n",
            "Epoch 12/100\n",
            "782/782 [==============================] - 27s 35ms/step - loss: 1.5383 - accuracy: 0.4368\n",
            "Epoch 13/100\n",
            "782/782 [==============================] - 27s 35ms/step - loss: 1.4677 - accuracy: 0.4649\n",
            "Epoch 14/100\n",
            "782/782 [==============================] - 27s 35ms/step - loss: 1.4011 - accuracy: 0.4909\n",
            "Epoch 15/100\n",
            "782/782 [==============================] - 27s 35ms/step - loss: 1.3357 - accuracy: 0.5142\n",
            "Epoch 16/100\n",
            "782/782 [==============================] - 27s 35ms/step - loss: 1.2711 - accuracy: 0.5415\n",
            "Epoch 17/100\n",
            "782/782 [==============================] - 27s 35ms/step - loss: 1.1920 - accuracy: 0.5702\n",
            "Epoch 18/100\n",
            "782/782 [==============================] - 27s 35ms/step - loss: 1.1325 - accuracy: 0.5938\n",
            "Epoch 19/100\n",
            "782/782 [==============================] - 27s 35ms/step - loss: 1.0540 - accuracy: 0.6212\n",
            "Epoch 20/100\n",
            "782/782 [==============================] - 27s 35ms/step - loss: 0.9909 - accuracy: 0.6464\n",
            "Epoch 21/100\n",
            "782/782 [==============================] - 27s 35ms/step - loss: 0.9215 - accuracy: 0.6704\n",
            "Epoch 22/100\n",
            "782/782 [==============================] - 27s 35ms/step - loss: 0.8550 - accuracy: 0.6996\n",
            "Epoch 23/100\n",
            "782/782 [==============================] - 27s 35ms/step - loss: 0.7923 - accuracy: 0.7168\n",
            "Epoch 24/100\n",
            "782/782 [==============================] - 27s 35ms/step - loss: 0.6960 - accuracy: 0.7538\n",
            "Epoch 25/100\n",
            "782/782 [==============================] - 27s 35ms/step - loss: 0.6305 - accuracy: 0.7783\n",
            "Epoch 26/100\n",
            "782/782 [==============================] - 27s 35ms/step - loss: 0.5498 - accuracy: 0.8064\n",
            "Epoch 27/100\n",
            "782/782 [==============================] - 27s 35ms/step - loss: 0.4728 - accuracy: 0.8346\n",
            "Epoch 28/100\n",
            "782/782 [==============================] - 27s 35ms/step - loss: 0.3829 - accuracy: 0.8659\n",
            "Epoch 29/100\n",
            "782/782 [==============================] - 27s 35ms/step - loss: 0.3184 - accuracy: 0.8883\n",
            "Epoch 30/100\n",
            "782/782 [==============================] - 27s 35ms/step - loss: 0.2498 - accuracy: 0.9135\n",
            "Epoch 31/100\n",
            "782/782 [==============================] - 27s 35ms/step - loss: 0.1921 - accuracy: 0.9338\n",
            "Epoch 32/100\n",
            "782/782 [==============================] - 27s 35ms/step - loss: 0.1514 - accuracy: 0.9482\n",
            "Epoch 33/100\n",
            "782/782 [==============================] - 27s 35ms/step - loss: 0.1191 - accuracy: 0.9594\n",
            "Epoch 34/100\n",
            "782/782 [==============================] - 27s 35ms/step - loss: 0.1238 - accuracy: 0.9596\n",
            "Epoch 35/100\n",
            "782/782 [==============================] - 27s 35ms/step - loss: 0.0898 - accuracy: 0.9686\n",
            "Epoch 36/100\n",
            "782/782 [==============================] - 27s 35ms/step - loss: 0.0534 - accuracy: 0.9835\n",
            "Epoch 37/100\n",
            "782/782 [==============================] - 27s 35ms/step - loss: 0.0724 - accuracy: 0.9766\n",
            "Epoch 38/100\n",
            "782/782 [==============================] - 27s 35ms/step - loss: 0.0402 - accuracy: 0.9871\n",
            "Epoch 39/100\n",
            "782/782 [==============================] - 27s 35ms/step - loss: 0.0517 - accuracy: 0.9847\n",
            "Epoch 40/100\n",
            "782/782 [==============================] - 27s 35ms/step - loss: 0.0330 - accuracy: 0.9890\n",
            "Epoch 41/100\n",
            "782/782 [==============================] - 27s 35ms/step - loss: 0.0299 - accuracy: 0.9903\n",
            "Epoch 42/100\n",
            "782/782 [==============================] - 27s 35ms/step - loss: 0.0262 - accuracy: 0.9918\n",
            "Epoch 43/100\n",
            "782/782 [==============================] - 27s 35ms/step - loss: 0.0326 - accuracy: 0.9895\n",
            "Epoch 44/100\n",
            "782/782 [==============================] - 27s 35ms/step - loss: 0.0246 - accuracy: 0.9918\n",
            "Epoch 45/100\n",
            "782/782 [==============================] - 27s 35ms/step - loss: 0.0198 - accuracy: 0.9938\n",
            "Epoch 46/100\n",
            "782/782 [==============================] - 27s 35ms/step - loss: 0.0131 - accuracy: 0.9962\n",
            "Epoch 47/100\n",
            "782/782 [==============================] - 27s 35ms/step - loss: 0.0116 - accuracy: 0.9961\n",
            "Epoch 48/100\n",
            "782/782 [==============================] - 27s 35ms/step - loss: 0.0167 - accuracy: 0.9946\n",
            "Epoch 49/100\n",
            "782/782 [==============================] - 27s 35ms/step - loss: 0.0138 - accuracy: 0.9956\n",
            "Epoch 50/100\n",
            "782/782 [==============================] - 27s 35ms/step - loss: 0.0696 - accuracy: 0.9825\n",
            "Epoch 51/100\n",
            "782/782 [==============================] - 27s 35ms/step - loss: 0.0142 - accuracy: 0.9955\n",
            "Epoch 52/100\n",
            "782/782 [==============================] - 27s 35ms/step - loss: 0.0105 - accuracy: 0.9965\n",
            "Epoch 53/100\n",
            "782/782 [==============================] - 27s 35ms/step - loss: 0.0161 - accuracy: 0.9945\n",
            "Epoch 54/100\n",
            "782/782 [==============================] - 27s 35ms/step - loss: 0.0074 - accuracy: 0.9977\n",
            "Epoch 55/100\n",
            "782/782 [==============================] - 27s 35ms/step - loss: 0.0083 - accuracy: 0.9973\n",
            "Epoch 56/100\n",
            "782/782 [==============================] - 27s 35ms/step - loss: 0.0145 - accuracy: 0.9947\n",
            "Epoch 57/100\n",
            "782/782 [==============================] - 27s 35ms/step - loss: 0.0103 - accuracy: 0.9967\n",
            "Epoch 58/100\n",
            "782/782 [==============================] - 27s 35ms/step - loss: 0.0038 - accuracy: 0.9989\n",
            "Epoch 59/100\n",
            "782/782 [==============================] - 27s 35ms/step - loss: 0.0150 - accuracy: 0.9950\n",
            "Epoch 60/100\n",
            "782/782 [==============================] - 27s 35ms/step - loss: 0.0064 - accuracy: 0.9981\n",
            "Epoch 61/100\n",
            "782/782 [==============================] - 27s 35ms/step - loss: 0.0163 - accuracy: 0.9947\n",
            "Epoch 62/100\n",
            "782/782 [==============================] - 27s 35ms/step - loss: 0.0106 - accuracy: 0.9967\n",
            "Epoch 63/100\n",
            "782/782 [==============================] - 28s 35ms/step - loss: 3.6611e-04 - accuracy: 1.0000\n",
            "Epoch 64/100\n",
            "782/782 [==============================] - 27s 35ms/step - loss: 9.9606e-05 - accuracy: 1.0000\n",
            "Epoch 65/100\n",
            "782/782 [==============================] - 27s 35ms/step - loss: 4.5477e-05 - accuracy: 1.0000\n",
            "Epoch 66/100\n",
            "782/782 [==============================] - 27s 35ms/step - loss: 3.4057e-05 - accuracy: 1.0000\n",
            "Epoch 67/100\n",
            "782/782 [==============================] - 27s 35ms/step - loss: 2.8729e-05 - accuracy: 1.0000\n",
            "Epoch 68/100\n",
            "782/782 [==============================] - 27s 35ms/step - loss: 2.2862e-05 - accuracy: 1.0000\n",
            "Epoch 69/100\n",
            "782/782 [==============================] - 27s 35ms/step - loss: 2.1375e-05 - accuracy: 1.0000\n",
            "Epoch 70/100\n",
            "782/782 [==============================] - 27s 35ms/step - loss: 1.8925e-05 - accuracy: 1.0000\n",
            "Epoch 71/100\n",
            "782/782 [==============================] - 27s 35ms/step - loss: 1.6286e-05 - accuracy: 1.0000\n",
            "Epoch 72/100\n",
            "782/782 [==============================] - 27s 35ms/step - loss: 1.5130e-05 - accuracy: 1.0000\n",
            "Epoch 73/100\n",
            "782/782 [==============================] - 27s 35ms/step - loss: 1.4125e-05 - accuracy: 1.0000\n",
            "Epoch 74/100\n",
            "782/782 [==============================] - 27s 35ms/step - loss: 1.2812e-05 - accuracy: 1.0000\n",
            "Epoch 75/100\n",
            "782/782 [==============================] - 27s 35ms/step - loss: 1.1742e-05 - accuracy: 1.0000\n",
            "Epoch 76/100\n",
            "782/782 [==============================] - 27s 35ms/step - loss: 1.1352e-05 - accuracy: 1.0000\n",
            "Epoch 77/100\n",
            "782/782 [==============================] - 27s 35ms/step - loss: 1.0580e-05 - accuracy: 1.0000\n",
            "Epoch 78/100\n",
            "782/782 [==============================] - 27s 35ms/step - loss: 9.7152e-06 - accuracy: 1.0000\n",
            "Epoch 79/100\n",
            "782/782 [==============================] - 27s 35ms/step - loss: 8.8856e-06 - accuracy: 1.0000\n",
            "Epoch 80/100\n",
            "782/782 [==============================] - 27s 35ms/step - loss: 8.8421e-06 - accuracy: 1.0000\n",
            "Epoch 81/100\n",
            "782/782 [==============================] - 27s 35ms/step - loss: 8.1746e-06 - accuracy: 1.0000\n",
            "Epoch 82/100\n",
            "782/782 [==============================] - 27s 35ms/step - loss: 7.5419e-06 - accuracy: 1.0000\n",
            "Epoch 83/100\n",
            "782/782 [==============================] - 27s 35ms/step - loss: 7.8547e-06 - accuracy: 1.0000\n",
            "Epoch 84/100\n",
            "782/782 [==============================] - 27s 35ms/step - loss: 7.2106e-06 - accuracy: 1.0000\n",
            "Epoch 85/100\n",
            "782/782 [==============================] - 27s 35ms/step - loss: 6.8949e-06 - accuracy: 1.0000\n",
            "Epoch 86/100\n",
            "782/782 [==============================] - 27s 35ms/step - loss: 6.3974e-06 - accuracy: 1.0000\n",
            "Epoch 87/100\n",
            "782/782 [==============================] - 27s 35ms/step - loss: 6.2850e-06 - accuracy: 1.0000\n",
            "Epoch 88/100\n",
            "782/782 [==============================] - 27s 35ms/step - loss: 5.9660e-06 - accuracy: 1.0000\n",
            "Epoch 89/100\n",
            "782/782 [==============================] - 27s 35ms/step - loss: 5.7909e-06 - accuracy: 1.0000\n",
            "Epoch 90/100\n",
            "782/782 [==============================] - 27s 35ms/step - loss: 5.5329e-06 - accuracy: 1.0000\n",
            "Epoch 91/100\n",
            "782/782 [==============================] - 27s 35ms/step - loss: 5.4645e-06 - accuracy: 1.0000\n",
            "Epoch 92/100\n",
            "782/782 [==============================] - 27s 35ms/step - loss: 5.5071e-06 - accuracy: 1.0000\n",
            "Epoch 93/100\n",
            "782/782 [==============================] - 27s 35ms/step - loss: 5.0041e-06 - accuracy: 1.0000\n",
            "Epoch 94/100\n",
            "782/782 [==============================] - 27s 35ms/step - loss: 4.9610e-06 - accuracy: 1.0000\n",
            "Epoch 95/100\n",
            "782/782 [==============================] - 27s 35ms/step - loss: 4.5856e-06 - accuracy: 1.0000\n",
            "Epoch 96/100\n",
            "782/782 [==============================] - 27s 35ms/step - loss: 4.6190e-06 - accuracy: 1.0000\n",
            "Epoch 97/100\n",
            "782/782 [==============================] - 27s 35ms/step - loss: 4.4272e-06 - accuracy: 1.0000\n",
            "Epoch 98/100\n",
            "782/782 [==============================] - 27s 35ms/step - loss: 4.4622e-06 - accuracy: 1.0000\n",
            "Epoch 99/100\n",
            "782/782 [==============================] - 27s 35ms/step - loss: 4.3424e-06 - accuracy: 1.0000\n",
            "Epoch 100/100\n",
            "782/782 [==============================] - 28s 35ms/step - loss: 4.1693e-06 - accuracy: 1.0000\n"
          ],
          "name": "stdout"
        },
        {
          "output_type": "execute_result",
          "data": {
            "text/plain": [
              "<tensorflow.python.keras.callbacks.History at 0x7fe70560cb00>"
            ]
          },
          "metadata": {
            "tags": []
          },
          "execution_count": 57
        }
      ]
    },
    {
      "cell_type": "code",
      "metadata": {
        "id": "Wngc-QwBxLQa",
        "outputId": "eda834be-0e9d-4caa-ba3b-98ed4c9be1d1",
        "colab": {
          "base_uri": "https://localhost:8080/"
        }
      },
      "source": [
        "model.evaluate(test_x,test_y)"
      ],
      "execution_count": 58,
      "outputs": [
        {
          "output_type": "stream",
          "text": [
            "313/313 [==============================] - 3s 9ms/step - loss: 609.3370 - accuracy: 0.5930\n"
          ],
          "name": "stdout"
        },
        {
          "output_type": "execute_result",
          "data": {
            "text/plain": [
              "[609.3369750976562, 0.5929999947547913]"
            ]
          },
          "metadata": {
            "tags": []
          },
          "execution_count": 58
        }
      ]
    },
    {
      "cell_type": "code",
      "metadata": {
        "id": "O7i-fVeA6O_4"
      },
      "source": [
        ""
      ],
      "execution_count": 62,
      "outputs": []
    },
    {
      "cell_type": "code",
      "metadata": {
        "id": "JXiWJC2G6V5U"
      },
      "source": [
        ""
      ],
      "execution_count": null,
      "outputs": []
    }
  ]
}